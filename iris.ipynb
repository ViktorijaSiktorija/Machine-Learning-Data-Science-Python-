{
 "cells": [
  {
   "cell_type": "code",
   "execution_count": 2,
   "metadata": {},
   "outputs": [],
   "source": [
    "# Machine learning\n",
    "# 1. korak: Import data\n",
    "from sklearn.datasets import load_iris\n",
    "iris = load_iris()"
   ]
  },
  {
   "cell_type": "code",
   "execution_count": 15,
   "metadata": {},
   "outputs": [
    {
     "data": {
      "text/plain": [
       "numpy.ndarray"
      ]
     },
     "execution_count": 15,
     "metadata": {},
     "output_type": "execute_result"
    }
   ],
   "source": [
    "X=iris.data # data slika\n",
    "Y=iris.target # 3 tipa cveta Iris\n",
    "# Kada ukucamo input, treba da izadje output tj jedna od 3 vrste\n",
    "# f(X) = Y\n",
    "feature_names = iris.feature_names # specifikacije cveta itd, visina duzina\n",
    "target_names = iris.target_names # vrste\n",
    "target_names\n",
    "type(X) # numpy arej; biblioteka numpy dozvoljava da koristimo multidimenz arejs"
   ]
  },
  {
   "cell_type": "code",
   "execution_count": 27,
   "metadata": {},
   "outputs": [
    {
     "name": "stdout",
     "output_type": "stream",
     "text": [
      "(120, 4)\n",
      "(30, 4)\n"
     ]
    }
   ],
   "source": [
    "# 2. korak: Split data u training i test set\n",
    "from sklearn.model_selection import  train_test_split\n",
    "X_train, X_test, Y_train, Y_test = train_test_split(X, Y, test_size=0.2)\n",
    "print(X_train.shape) # vrati dimensionality areja, koliko redova i kolona smo testirali\n",
    "print(X_test.shape) # i ovde, zbog test_size"
   ]
  },
  {
   "cell_type": "code",
   "execution_count": 28,
   "metadata": {},
   "outputs": [],
   "source": [
    "# 3. korak: Built model\n",
    "from sklearn.neighbors import KNeighborsClassifier #DecisionTreeClassifier\n",
    "knn = KNeighborsClassifier(n_neighbors=3) # knn = DecisionTreeClassifier()\n",
    "knn.fit(X_train, Y_train)\n",
    "Y_predict = knn.predict(X_test)"
   ]
  },
  {
   "cell_type": "code",
   "execution_count": 29,
   "metadata": {},
   "outputs": [
    {
     "name": "stdout",
     "output_type": "stream",
     "text": [
      "0.9666666666666667\n"
     ]
    }
   ],
   "source": [
    "# 4 korak: Provera outputa\n",
    "from sklearn import metrics\n",
    "print(metrics.accuracy_score(Y_test, Y_predict)) # izadje predvidjanje tacnosi, 0.95"
   ]
  },
  {
   "cell_type": "code",
   "execution_count": null,
   "metadata": {},
   "outputs": [],
   "source": [
    "# 5 korak: Poboljsanje modela\n",
    "# menjamo test_size, time se povecava tacnost, to nije dobro treba nam vise date\n",
    "# ili da povecamo neighbout tacnost, npr 4 stvara 4 segmenta, a treba nam 3 tipa cveta \n",
    "# da dodamo parametre/kolone (features), sto ih ima vise ima vise informacija, time je model bolji\n",
    "# zavisi i od modela/algoritma ne mora neighbors, npr decision tree, bolji je neighbor"
   ]
  },
  {
   "cell_type": "code",
   "execution_count": 37,
   "metadata": {},
   "outputs": [
    {
     "data": {
      "text/plain": [
       "['mlbrain.joblib']"
      ]
     },
     "execution_count": 37,
     "metadata": {},
     "output_type": "execute_result"
    }
   ],
   "source": [
    "# Model persistence - da se cuva model za predvidjanja\n",
    "import joblib\n",
    "joblib.dump(knn, 'mlbrain.joblib')"
   ]
  },
  {
   "cell_type": "code",
   "execution_count": 40,
   "metadata": {},
   "outputs": [
    {
     "name": "stdout",
     "output_type": "stream",
     "text": [
      "predictions ['versicolor', 'virginica']\n"
     ]
    }
   ],
   "source": [
    "model = joblib.load('mlbrain.joblib')\n",
    "model.predict(X_test)\n",
    "sample = [[3,5,4,2], [2,3,5,4]]\n",
    "predictions = model.predict(sample)\n",
    "pred_species = [iris.target_names[p] for p in predictions]\n",
    "print(\"predictions\", pred_species) # predictions ['versicolor', 'virginica']"
   ]
  },
  {
   "cell_type": "code",
   "execution_count": null,
   "metadata": {},
   "outputs": [],
   "source": []
  }
 ],
 "metadata": {
  "kernelspec": {
   "display_name": "Python 3",
   "language": "python",
   "name": "python3"
  },
  "language_info": {
   "codemirror_mode": {
    "name": "ipython",
    "version": 3
   },
   "file_extension": ".py",
   "mimetype": "text/x-python",
   "name": "python",
   "nbconvert_exporter": "python",
   "pygments_lexer": "ipython3",
   "version": "3.8.5"
  }
 },
 "nbformat": 4,
 "nbformat_minor": 4
}
